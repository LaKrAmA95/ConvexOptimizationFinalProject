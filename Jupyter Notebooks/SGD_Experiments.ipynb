{
 "cells": [
  {
   "cell_type": "markdown",
   "metadata": {},
   "source": [
    "# Stochastic Gradient Descent(SGD) Experiments"
   ]
  },
  {
   "cell_type": "markdown",
   "metadata": {},
   "source": [
    "## Setting Path"
   ]
  },
  {
   "cell_type": "code",
   "execution_count": 1,
   "metadata": {},
   "outputs": [],
   "source": [
    "import sys\n",
    "sys.path.append('../Code Files')\n",
    "sys.path.append('../Data')"
   ]
  },
  {
   "cell_type": "markdown",
   "metadata": {},
   "source": [
    "## Import Libraries"
   ]
  },
  {
   "cell_type": "code",
   "execution_count": 2,
   "metadata": {},
   "outputs": [],
   "source": [
    "#Import External Files\n",
    "from SGD_Experiments_Data_Generation import linear\n",
    "from optimization import SGD1, SGD2\n",
    "import matplotlib.pyplot as plt\n",
    "from datetime import datetime\n",
    "import numpy as np"
   ]
  },
  {
   "cell_type": "markdown",
   "metadata": {},
   "source": [
    "## Global Variables"
   ]
  },
  {
   "cell_type": "code",
   "execution_count": null,
   "metadata": {},
   "outputs": [],
   "source": [
    "# Get the current date and time\n",
    "current_time = datetime.now()\n",
    "formatted_time = current_time.strftime(\"%Y-%m-%d %H:%M:%S\")"
   ]
  },
  {
   "cell_type": "markdown",
   "metadata": {},
   "source": [
    "## Generate Data[No Noise]"
   ]
  },
  {
   "cell_type": "code",
   "execution_count": null,
   "metadata": {},
   "outputs": [],
   "source": [
    "n_train = int(2e6) #number of training samples\n",
    "n_test = int(1e6) #number of test samples\n",
    "d = int(1e2) #Number of features in data\n",
    "noise_std = 0 #No Noise\n",
    "intercept = True #Whether to Add Bias to Linear Model\n",
    "\n",
    "X_train, X_test, Y_train, Y_test, W, b = linear(n_train, n_test, d, noise_std, intercept)\n",
    "print(X_train.shape, X_test.shape, Y_train.shape, Y_test.shape, W.shape, b)"
   ]
  },
  {
   "cell_type": "markdown",
   "metadata": {},
   "source": [
    "### Save Data"
   ]
  },
  {
   "cell_type": "code",
   "execution_count": null,
   "metadata": {},
   "outputs": [],
   "source": [
    "np.save(f\"../Data/X_train_time={formatted_time}_train={n_train}_test={n_test}_d={d}_noise={noise_std}_intercept={intercept}.npy\", X_train)\n",
    "np.save(f\"../Data/X_test_time={formatted_time}_train={n_train}_test={n_test}_d={d}_noise={noise_std}_intercept={intercept}.npy\", X_test)\n",
    "np.save(f\"../Data/Y_train_time={formatted_time}_train={n_train}_test={n_test}_d={d}_noise={noise_std}_intercept={intercept}.npy\", Y_train)\n",
    "np.save(f\"../Data/Y_test_time={formatted_time}_train={n_train}_test={n_test}_d={d}_noise={noise_std}_intercept={intercept}.npy\", Y_test)\n",
    "np.save(f\"../Data/W_time={formatted_time}_train={n_train}_test={n_test}_d={d}_noise={noise_std}_intercept={intercept}.npy\", W)\n",
    "np.save(f\"../Data/b_time={formatted_time}_train={n_train}_test={n_test}_d={d}_noise={noise_std}_intercept={intercept}.npy\", b)"
   ]
  },
  {
   "cell_type": "markdown",
   "metadata": {},
   "source": [
    "### Load Data"
   ]
  },
  {
   "cell_type": "code",
   "execution_count": null,
   "metadata": {},
   "outputs": [],
   "source": [
    "X_train = np.load(f\"../Data/X_train_time={formatted_time}_train={n_train}_test={n_test}_d={d}_noise={noise_std}_intercept={intercept}.npy\")\n",
    "X_test = np.load(f\"../Data/X_test_time={formatted_time}_train={n_train}_test={n_test}_d={d}_noise={noise_std}_intercept={intercept}.npy\")\n",
    "Y_train = np.load(f\"../Data/Y_train_time={formatted_time}_train={n_train}_test={n_test}_d={d}_noise={noise_std}_intercept={intercept}.npy\")\n",
    "Y_test = np.load(f\"../Data/Y_test_time={formatted_time}_train={n_train}_test={n_test}_d={d}_noise={noise_std}_intercept={intercept}.npy\")\n",
    "W = np.load(f\"../Data/W_time={formatted_time}_train={n_train}_test={n_test}_d={d}_noise={noise_std}_intercept={intercept}.npy\")\n",
    "b = np.load(f\"../Data/b_time={formatted_time}_train={n_train}_test={n_test}_d={d}_noise={noise_std}_intercept={intercept}.npy\")"
   ]
  },
  {
   "cell_type": "markdown",
   "metadata": {},
   "source": [
    "### SGD, Least Squares, Fixed Learning Rate of 0.005, Epochs = 500, Batch Size = 1"
   ]
  },
  {
   "cell_type": "code",
   "execution_count": null,
   "metadata": {},
   "outputs": [],
   "source": [
    "lr = 0.005\n",
    "epochs = 500\n",
    "batch_size = 1\n",
    "W_estimated, b_estimated, losses = SGD1(X = X_train, Y = Y_train, lr = lr, epochs = epochs, batch_size = batch_size, bias = intercept)"
   ]
  },
  {
   "cell_type": "code",
   "execution_count": null,
   "metadata": {},
   "outputs": [],
   "source": [
    "plt.plot(range(1, len(losses)+1), losses, label='Loss')\n",
    "plt.title('Loss as a function of Epoch')\n",
    "plt.xlabel('Epoch')\n",
    "plt.ylabel('Loss')\n",
    "plt.legend()\n",
    "plt.grid(True)\n",
    "plt.show()"
   ]
  },
  {
   "cell_type": "markdown",
   "metadata": {},
   "source": [
    "### SGD, Least Squares, Fixed Learning Rate of 0.005, Epochs = 500, Batch Size = 64"
   ]
  },
  {
   "cell_type": "code",
   "execution_count": null,
   "metadata": {},
   "outputs": [],
   "source": [
    "lr = 0.005\n",
    "epochs = 500\n",
    "batch_size = 64\n",
    "W_estimated, b_estimated, losses = SGD1(X = X_train, Y = Y_train, lr = lr, epochs = epochs, batch_size = batch_size, bias = intercept)"
   ]
  },
  {
   "cell_type": "code",
   "execution_count": null,
   "metadata": {},
   "outputs": [],
   "source": [
    "plt.plot(range(1, len(losses)+1), losses, label='Loss')\n",
    "plt.title('Loss as a function of Epoch')\n",
    "plt.xlabel('Epoch')\n",
    "plt.ylabel('Loss')\n",
    "plt.legend()\n",
    "plt.grid(True)\n",
    "plt.show()"
   ]
  },
  {
   "cell_type": "markdown",
   "metadata": {},
   "source": [
    "### SGD, Least Squares, Fixed Learning Rate of 0.005, Epochs = 500, Batch Size = 128"
   ]
  },
  {
   "cell_type": "code",
   "execution_count": null,
   "metadata": {},
   "outputs": [],
   "source": [
    "lr = 0.005\n",
    "epochs = 500\n",
    "batch_size = 128\n",
    "W_estimated, b_estimated, losses = SGD1(X = X_train, Y = Y_train, lr = lr, epochs = epochs, batch_size = batch_size, bias = intercept)"
   ]
  },
  {
   "cell_type": "code",
   "execution_count": null,
   "metadata": {},
   "outputs": [],
   "source": [
    "plt.plot(range(1, len(losses)+1), losses, label='Loss')\n",
    "plt.title('Loss as a function of Epoch')\n",
    "plt.xlabel('Epoch')\n",
    "plt.ylabel('Loss')\n",
    "plt.legend()\n",
    "plt.grid(True)\n",
    "plt.show()"
   ]
  },
  {
   "cell_type": "markdown",
   "metadata": {},
   "source": [
    "### SGD, Least Squares, Fixed Learning Rate of 0.005, Epochs = 500, Batch Size = 256"
   ]
  },
  {
   "cell_type": "code",
   "execution_count": null,
   "metadata": {},
   "outputs": [],
   "source": [
    "lr = 0.005\n",
    "epochs = 500\n",
    "batch_size = 256\n",
    "W_estimated, b_estimated, losses = SGD1(X = X_train, Y = Y_train, lr = lr, epochs = epochs, batch_size = batch_size, bias = intercept)"
   ]
  },
  {
   "cell_type": "code",
   "execution_count": null,
   "metadata": {},
   "outputs": [],
   "source": [
    "plt.plot(range(1, len(losses)+1), losses, label='Loss')\n",
    "plt.title('Loss as a function of Epoch')\n",
    "plt.xlabel('Epoch')\n",
    "plt.ylabel('Loss')\n",
    "plt.legend()\n",
    "plt.grid(True)\n",
    "plt.show()"
   ]
  },
  {
   "cell_type": "markdown",
   "metadata": {},
   "source": [
    "### SGD, Least Squares, Fixed Learning Rate of 0.005 w/Momentum of 0.85, Epochs = 500, Batch Size = 1"
   ]
  },
  {
   "cell_type": "code",
   "execution_count": null,
   "metadata": {},
   "outputs": [],
   "source": [
    "lr = 0.005\n",
    "momentum = 0.85\n",
    "epochs = 500\n",
    "batch_size = 1\n",
    "W_estimated, b_estimated, losses = SGD1(X = X_train, Y = Y_train, lr = lr, epochs = epochs, batch_size = batch_size, momentum = momentum, bias = intercept)"
   ]
  },
  {
   "cell_type": "code",
   "execution_count": null,
   "metadata": {},
   "outputs": [],
   "source": [
    "plt.plot(range(1, len(losses)+1), losses, label='Loss')\n",
    "plt.title('Loss as a function of Epoch')\n",
    "plt.xlabel('Epoch')\n",
    "plt.ylabel('Loss')\n",
    "plt.legend()\n",
    "plt.grid(True)\n",
    "plt.show()"
   ]
  },
  {
   "cell_type": "markdown",
   "metadata": {},
   "source": [
    "### SGD, Least Squares, Fixed Learning Rate of 0.005 w/Momentum of 0.85 and Nesterov Momentum Calculation, Epochs = 500, Batch Size = 1"
   ]
  },
  {
   "cell_type": "code",
   "execution_count": null,
   "metadata": {},
   "outputs": [],
   "source": [
    "lr = 0.005\n",
    "momentum = 0.85\n",
    "nesterov = True\n",
    "epochs = 500\n",
    "batch_size = 1\n",
    "W_estimated, b_estimated, losses = SGD1(X = X_train, Y = Y_train, lr = lr, epochs = epochs, batch_size = batch_size, momentum = momentum, nesterov = nesterov, bias = intercept)"
   ]
  },
  {
   "cell_type": "code",
   "execution_count": null,
   "metadata": {},
   "outputs": [],
   "source": [
    "plt.plot(range(1, len(losses)+1), losses, label='Loss')\n",
    "plt.title('Loss as a function of Epoch')\n",
    "plt.xlabel('Epoch')\n",
    "plt.ylabel('Loss')\n",
    "plt.legend()\n",
    "plt.grid(True)\n",
    "plt.show()"
   ]
  },
  {
   "cell_type": "markdown",
   "metadata": {},
   "source": [
    "### SGD, Least Squares, Fixed Learning Rate of 0.005, Adagrad Optimization, and Batch Size = 1"
   ]
  },
  {
   "cell_type": "code",
   "execution_count": null,
   "metadata": {},
   "outputs": [],
   "source": [
    "lr = 0.005\n",
    "optimizer_code = 1\n",
    "epochs = 500\n",
    "batch_size = 1\n",
    "W_estimated, b_estimated, losses = SGD1(X = X_train, Y = Y_train, lr = lr, epochs = epochs, batch_size = batch_size, optimizer_code = optimizer_code, bias = intercept)"
   ]
  },
  {
   "cell_type": "code",
   "execution_count": null,
   "metadata": {},
   "outputs": [],
   "source": [
    "plt.plot(range(1, len(losses)+1), losses, label='Loss')\n",
    "plt.title('Loss as a function of Epoch')\n",
    "plt.xlabel('Epoch')\n",
    "plt.ylabel('Loss')\n",
    "plt.legend()\n",
    "plt.grid(True)\n",
    "plt.show()"
   ]
  },
  {
   "cell_type": "markdown",
   "metadata": {},
   "source": [
    "### SGD, Least Squares, Fixed Learning Rate of 0.005, RMSProp Optimization, Momentum = 0.85, and Decay Factor = 0.9, and Batch Size = 1"
   ]
  },
  {
   "cell_type": "code",
   "execution_count": null,
   "metadata": {},
   "outputs": [],
   "source": [
    "lr = 0.005\n",
    "epochs = 500\n",
    "batch_size = 1\n",
    "momentum = 0.85\n",
    "decay_factor = 0.9\n",
    "optimizer_code = 2\n",
    "W_estimated, b_estimated, losses = SGD1(X = X_train, Y = Y_train, lr = lr, epochs = epochs, batch_size = batch_size, momentum = momentum, decay_factor = decay_factor, optimizer_code = optimizer_code, bias = intercept)"
   ]
  },
  {
   "cell_type": "code",
   "execution_count": null,
   "metadata": {},
   "outputs": [],
   "source": [
    "plt.plot(range(1, len(losses)+1), losses, label='Loss')\n",
    "plt.title('Loss as a function of Epoch')\n",
    "plt.xlabel('Epoch')\n",
    "plt.ylabel('Loss')\n",
    "plt.legend()\n",
    "plt.grid(True)\n",
    "plt.show()"
   ]
  },
  {
   "cell_type": "markdown",
   "metadata": {},
   "source": [
    "## Generate Data, Noise = Gaussian Noise"
   ]
  },
  {
   "cell_type": "code",
   "execution_count": null,
   "metadata": {},
   "outputs": [],
   "source": [
    "n_train = int(2e6) #number of training samples\n",
    "n_test = int(1e6) #number of test samples\n",
    "d = int(1e2) #Number of features in data\n",
    "noise_std = 0.10 #Add Gaussian Noise with standard deviation of 0.10 to Response Variable\n",
    "intercept = True #Whether to Add Bias to Linear Model\n",
    "\n",
    "X_train, X_test, Y_train, Y_test, W, b = linear(n_train, n_test, d, noise_std, intercept)\n",
    "print(X_train.shape, X_test.shape, Y_train.shape, Y_test.shape, W.shape, b)"
   ]
  },
  {
   "cell_type": "markdown",
   "metadata": {},
   "source": [
    "### Save Data"
   ]
  },
  {
   "cell_type": "code",
   "execution_count": null,
   "metadata": {},
   "outputs": [],
   "source": [
    "np.save(f\"../Data/X_train_time={formatted_time}_train={n_train}_test={n_test}_d={d}_noise={noise_std}_intercept={intercept}.npy\", X_train)\n",
    "np.save(f\"../Data/X_test_time={formatted_time}_train={n_train}_test={n_test}_d={d}_noise={noise_std}_intercept={intercept}.npy\", X_test)\n",
    "np.save(f\"../Data/Y_train_time={formatted_time}_train={n_train}_test={n_test}_d={d}_noise={noise_std}_intercept={intercept}.npy\", Y_train)\n",
    "np.save(f\"../Data/Y_test_time={formatted_time}_train={n_train}_test={n_test}_d={d}_noise={noise_std}_intercept={intercept}.npy\", Y_test)\n",
    "np.save(f\"../Data/W_time={formatted_time}_train={n_train}_test={n_test}_d={d}_noise={noise_std}_intercept={intercept}.npy\", W)\n",
    "np.save(f\"../Data/b_time={formatted_time}_train={n_train}_test={n_test}_d={d}_noise={noise_std}_intercept={intercept}.npy\", b)"
   ]
  },
  {
   "cell_type": "markdown",
   "metadata": {},
   "source": [
    "### Load Data"
   ]
  },
  {
   "cell_type": "code",
   "execution_count": null,
   "metadata": {},
   "outputs": [],
   "source": [
    "X_train = np.load(f\"../Data/X_train_time={formatted_time}_train={n_train}_test={n_test}_d={d}_noise={noise_std}_intercept={intercept}.npy\")\n",
    "X_test = np.load(f\"../Data/X_test_time={formatted_time}_train={n_train}_test={n_test}_d={d}_noise={noise_std}_intercept={intercept}.npy\")\n",
    "Y_train = np.load(f\"../Data/Y_train_time={formatted_time}_train={n_train}_test={n_test}_d={d}_noise={noise_std}_intercept={intercept}.npy\")\n",
    "Y_test = np.load(f\"../Data/Y_test_time={formatted_time}_train={n_train}_test={n_test}_d={d}_noise={noise_std}_intercept={intercept}.npy\")\n",
    "W = np.load(f\"../Data/W_time={formatted_time}_train={n_train}_test={n_test}_d={d}_noise={noise_std}_intercept={intercept}.npy\")\n",
    "b = np.load(f\"../Data/b_time={formatted_time}_train={n_train}_test={n_test}_d={d}_noise={noise_std}_intercept={intercept}.npy\")"
   ]
  },
  {
   "cell_type": "markdown",
   "metadata": {},
   "source": [
    "### SGD, Least Squares, Fixed Learning Rate of 0.005, Epochs = 500, Batch Size = 1"
   ]
  },
  {
   "cell_type": "code",
   "execution_count": null,
   "metadata": {},
   "outputs": [],
   "source": [
    "lr = 0.005\n",
    "epochs = 500\n",
    "batch_size = 1\n",
    "W_estimated, b_estimated, losses = SGD1(X = X_train, Y = Y_train, lr = lr, epochs = epochs, batch_size = batch_size, bias = intercept)"
   ]
  },
  {
   "cell_type": "code",
   "execution_count": null,
   "metadata": {},
   "outputs": [],
   "source": [
    "plt.plot(range(1, len(losses)+1), losses, label='Loss')\n",
    "plt.title('Loss as a function of Epoch')\n",
    "plt.xlabel('Epoch')\n",
    "plt.ylabel('Loss')\n",
    "plt.legend()\n",
    "plt.grid(True)\n",
    "plt.show()"
   ]
  },
  {
   "cell_type": "markdown",
   "metadata": {},
   "source": [
    "### SGD, Least Squares, Fixed Learning Rate of 0.005, Epochs = 500, Batch Size = 64"
   ]
  },
  {
   "cell_type": "code",
   "execution_count": null,
   "metadata": {},
   "outputs": [],
   "source": [
    "lr = 0.005\n",
    "epochs = 500\n",
    "batch_size = 64\n",
    "W_estimated, b_estimated, losses = SGD1(X = X_train, Y = Y_train, lr = lr, epochs = epochs, batch_size = batch_size, bias = intercept)"
   ]
  },
  {
   "cell_type": "code",
   "execution_count": null,
   "metadata": {},
   "outputs": [],
   "source": [
    "plt.plot(range(1, len(losses)+1), losses, label='Loss')\n",
    "plt.title('Loss as a function of Epoch')\n",
    "plt.xlabel('Epoch')\n",
    "plt.ylabel('Loss')\n",
    "plt.legend()\n",
    "plt.grid(True)\n",
    "plt.show()"
   ]
  },
  {
   "cell_type": "markdown",
   "metadata": {},
   "source": [
    "### SGD, Least Squares, Fixed Learning Rate of 0.005, Epochs = 500, Batch Size = 128"
   ]
  },
  {
   "cell_type": "code",
   "execution_count": null,
   "metadata": {},
   "outputs": [],
   "source": [
    "lr = 0.005\n",
    "epochs = 500\n",
    "batch_size = 128\n",
    "W_estimated, b_estimated, losses = SGD1(X = X_train, Y = Y_train, lr = lr, epochs = epochs, batch_size = batch_size, bias = intercept)"
   ]
  },
  {
   "cell_type": "code",
   "execution_count": null,
   "metadata": {},
   "outputs": [],
   "source": [
    "plt.plot(range(1, len(losses)+1), losses, label='Loss')\n",
    "plt.title('Loss as a function of Epoch')\n",
    "plt.xlabel('Epoch')\n",
    "plt.ylabel('Loss')\n",
    "plt.legend()\n",
    "plt.grid(True)\n",
    "plt.show()"
   ]
  },
  {
   "cell_type": "markdown",
   "metadata": {},
   "source": [
    "### SGD, Least Squares, Fixed Learning Rate of 0.005, Epochs = 500, Batch Size = 256"
   ]
  },
  {
   "cell_type": "code",
   "execution_count": null,
   "metadata": {},
   "outputs": [],
   "source": [
    "lr = 0.005\n",
    "epochs = 500\n",
    "batch_size = 256\n",
    "W_estimated, b_estimated, losses = SGD1(X = X_train, Y = Y_train, lr = lr, epochs = epochs, batch_size = batch_size, bias = intercept)"
   ]
  },
  {
   "cell_type": "code",
   "execution_count": null,
   "metadata": {},
   "outputs": [],
   "source": [
    "plt.plot(range(1, len(losses)+1), losses, label='Loss')\n",
    "plt.title('Loss as a function of Epoch')\n",
    "plt.xlabel('Epoch')\n",
    "plt.ylabel('Loss')\n",
    "plt.legend()\n",
    "plt.grid(True)\n",
    "plt.show()"
   ]
  },
  {
   "cell_type": "markdown",
   "metadata": {},
   "source": [
    "### SGD, Least Squares, Fixed Learning Rate of 0.005 w/Momentum of 0.85, Epochs = 500, Batch Size = 1"
   ]
  },
  {
   "cell_type": "code",
   "execution_count": null,
   "metadata": {},
   "outputs": [],
   "source": [
    "lr = 0.005\n",
    "momentum = 0.85\n",
    "epochs = 500\n",
    "batch_size = 1\n",
    "W_estimated, b_estimated, losses = SGD1(X = X_train, Y = Y_train, lr = lr, epochs = epochs, batch_size = batch_size, momentum = momentum, bias = intercept)"
   ]
  },
  {
   "cell_type": "code",
   "execution_count": null,
   "metadata": {},
   "outputs": [],
   "source": [
    "plt.plot(range(1, len(losses)+1), losses, label='Loss')\n",
    "plt.title('Loss as a function of Epoch')\n",
    "plt.xlabel('Epoch')\n",
    "plt.ylabel('Loss')\n",
    "plt.legend()\n",
    "plt.grid(True)\n",
    "plt.show()"
   ]
  },
  {
   "cell_type": "markdown",
   "metadata": {},
   "source": [
    "### SGD, Least Squares, Fixed Learning Rate of 0.005 w/Momentum of 0.85 and Nesterov Momentum Calculation, Epochs = 500, Batch Size = 1"
   ]
  },
  {
   "cell_type": "code",
   "execution_count": null,
   "metadata": {},
   "outputs": [],
   "source": [
    "lr = 0.005\n",
    "momentum = 0.85\n",
    "nesterov = True\n",
    "epochs = 500\n",
    "batch_size = 1\n",
    "W_estimated, b_estimated, losses = SGD1(X = X_train, Y = Y_train, lr = lr, epochs = epochs, batch_size = batch_size, momentum = momentum, nesterov = nesterov, bias = intercept)"
   ]
  },
  {
   "cell_type": "code",
   "execution_count": null,
   "metadata": {},
   "outputs": [],
   "source": [
    "plt.plot(range(1, len(losses)+1), losses, label='Loss')\n",
    "plt.title('Loss as a function of Epoch')\n",
    "plt.xlabel('Epoch')\n",
    "plt.ylabel('Loss')\n",
    "plt.legend()\n",
    "plt.grid(True)\n",
    "plt.show()"
   ]
  },
  {
   "cell_type": "markdown",
   "metadata": {},
   "source": [
    "### SGD, Least Squares, Fixed Learning Rate of 0.005, Adagrad Optimization, and Batch Size = 1"
   ]
  },
  {
   "cell_type": "code",
   "execution_count": null,
   "metadata": {},
   "outputs": [],
   "source": [
    "lr = 0.005\n",
    "optimizer_code = 1\n",
    "epochs = 500\n",
    "batch_size = 1\n",
    "W_estimated, b_estimated, losses = SGD1(X = X_train, Y = Y_train, lr = lr, epochs = epochs, batch_size = batch_size, optimizer_code = optimizer_code, bias = intercept)"
   ]
  },
  {
   "cell_type": "code",
   "execution_count": null,
   "metadata": {},
   "outputs": [],
   "source": [
    "plt.plot(range(1, len(losses)+1), losses, label='Loss')\n",
    "plt.title('Loss as a function of Epoch')\n",
    "plt.xlabel('Epoch')\n",
    "plt.ylabel('Loss')\n",
    "plt.legend()\n",
    "plt.grid(True)\n",
    "plt.show()"
   ]
  },
  {
   "cell_type": "markdown",
   "metadata": {},
   "source": [
    "### SGD, Least Squares, Fixed Learning Rate of 0.005, RMSProp Optimization, Momentum = 0.85, and Decay Factor = 0.9, and Batch Size = 1"
   ]
  },
  {
   "cell_type": "code",
   "execution_count": null,
   "metadata": {},
   "outputs": [],
   "source": [
    "lr = 0.005\n",
    "epochs = 500\n",
    "batch_size = 1\n",
    "momentum = 0.85\n",
    "decay_factor = 0.9\n",
    "optimizer_code = 2\n",
    "W_estimated, b_estimated, losses = SGD1(X = X_train, Y = Y_train, lr = lr, epochs = epochs, batch_size = batch_size, momentum = momentum, decay_factor = decay_factor, optimizer_code = optimizer_code, bias = intercept)"
   ]
  },
  {
   "cell_type": "code",
   "execution_count": null,
   "metadata": {},
   "outputs": [],
   "source": [
    "plt.plot(range(1, len(losses)+1), losses, label='Loss')\n",
    "plt.title('Loss as a function of Epoch')\n",
    "plt.xlabel('Epoch')\n",
    "plt.ylabel('Loss')\n",
    "plt.legend()\n",
    "plt.grid(True)\n",
    "plt.show()"
   ]
  }
 ],
 "metadata": {
  "kernelspec": {
   "display_name": "neuroimaging",
   "language": "python",
   "name": "python3"
  },
  "language_info": {
   "codemirror_mode": {
    "name": "ipython",
    "version": 3
   },
   "file_extension": ".py",
   "mimetype": "text/x-python",
   "name": "python",
   "nbconvert_exporter": "python",
   "pygments_lexer": "ipython3",
   "version": "3.12.2"
  }
 },
 "nbformat": 4,
 "nbformat_minor": 2
}
